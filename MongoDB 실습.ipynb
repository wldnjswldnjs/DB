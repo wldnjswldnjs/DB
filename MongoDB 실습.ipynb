{
 "cells": [
  {
   "cell_type": "code",
   "execution_count": 1,
   "id": "71cd553b",
   "metadata": {
    "scrolled": true
   },
   "outputs": [
    {
     "name": "stdout",
     "output_type": "stream",
     "text": [
      "Collecting pymongo\n",
      "  Downloading pymongo-4.1.1-cp39-cp39-win_amd64.whl (365 kB)\n",
      "Installing collected packages: pymongo\n",
      "Successfully installed pymongo-4.1.1\n",
      "Note: you may need to restart the kernel to use updated packages.\n"
     ]
    }
   ],
   "source": [
    "pip install pymongo"
   ]
  },
  {
   "cell_type": "code",
   "execution_count": 2,
   "id": "e4d0e8f7",
   "metadata": {},
   "outputs": [],
   "source": [
    "import pymongo\n",
    "conn = pymongo.MongoClient('mongodb://localhost:27017')"
   ]
  },
  {
   "cell_type": "code",
   "execution_count": 3,
   "id": "11084f73",
   "metadata": {},
   "outputs": [],
   "source": [
    "# mydb Database 생성/사용 및 객체 선언 \n",
    "mydb = conn.mydb"
   ]
  },
  {
   "cell_type": "code",
   "execution_count": 9,
   "id": "3c38fa9d",
   "metadata": {},
   "outputs": [],
   "source": [
    "# Collection 생성 및 객체 선언\n",
    "emp_python = mydb.emp_python"
   ]
  },
  {
   "cell_type": "code",
   "execution_count": 11,
   "id": "af190177",
   "metadata": {},
   "outputs": [
    {
     "name": "stdout",
     "output_type": "stream",
     "text": [
      "{'_id': ObjectId('62d507617dc333f8785807e0'), 'name': 'MARTIN', 'hp': '010-4312-7856', 'status': '임시직', 'retire_yn': 'N'}\n",
      "{'_id': ObjectId('62d507617dc333f8785807e1'), 'name': 'ALLEN', 'hp': '010-5678-1234', 'status': '정규직', 'retire_yn': 'N'}\n",
      "{'_id': ObjectId('62d507667dc333f8785807e2'), 'name': 'SCOTT', 'hp': '010-1212-3434', 'dept': '개발팀', 'status': '정규직', 'retire_yn': 'N'}\n",
      "{'_id': ObjectId('62d507cf7dc333f8785807e3'), 'name': 'PYTHON', 'hp': '010-1111-2222', 'status': '임시직', 'retire_yn': 'Y'}\n"
     ]
    }
   ],
   "source": [
    "# 1개 데이터 입력\n",
    "\n",
    "#mydb_emp.insert_one( { \"empid\":\"bcd001\", \"name\" : \"이정재\", \"age\": 45, \"teamname\" : \"인사부\" } )\n",
    "\n",
    "for i in emp_python.find():\n",
    "  print(i)"
   ]
  },
  {
   "cell_type": "code",
   "execution_count": 35,
   "id": "0ad28b76",
   "metadata": {
    "scrolled": false
   },
   "outputs": [
    {
     "name": "stdout",
     "output_type": "stream",
     "text": [
      "{'_id': ObjectId('62d507617dc333f8785807e0'), 'name': 'MARTIN', 'hp': '010-4312-7856', 'status': '임시직', 'retire_yn': 'N'}\n",
      "{'_id': ObjectId('62d507617dc333f8785807e1'), 'name': 'ALLEN', 'hp': '010-5678-1234', 'status': '정규직', 'retire_yn': 'N'}\n",
      "{'_id': ObjectId('62d507667dc333f8785807e2'), 'name': 'SCOTT', 'hp': '010-1212-3434', 'dept': '개발팀', 'status': '정규직', 'retire_yn': 'N'}\n",
      "{'_id': ObjectId('62d507cf7dc333f8785807e3'), 'name': 'PYTHON', 'hp': '010-1111-2222', 'status': '임시직', 'retire_yn': 'Y'}\n",
      "{'_id': ObjectId('62d50c599c32be385649b966'), 'name': '박나래', 'age': 34, 'dept': '아티스트팀'}\n",
      "{'_id': ObjectId('62d50c599c32be385649b967'), 'name': '전현무', 'age': 43, 'dept': '아티스트팀'}\n",
      "{'_id': ObjectId('62d50c599c32be385649b968'), 'name': '화사', 'age': 29, 'dept': '아티스트팀'}\n",
      "{'_id': ObjectId('62d50c599c32be385649b969'), 'name': '윤여정', 'age': 71, 'dept': '가수팀'}\n"
     ]
    }
   ],
   "source": [
    "# 1개 이상의 데이터 입력\n",
    "\n",
    "emp_python.insert_many(\n",
    "    [\n",
    "      { \"name\" : \"박나래\", \"age\":34, \"dept\" : \"아티스트팀\" },\n",
    "      { \"name\" : \"전현무\", \"age\":43, \"dept\" : \"아티스트팀\" },\n",
    "      { \"name\" : \"화사\", \"age\":29, \"dept\" : \"아티스트팀\" },\n",
    "      { \"name\" : \"윤여정\", \"age\":71, \"dept\" : \"가수팀\" }\n",
    "    ]\n",
    ")\n",
    "\n",
    "for i in emp_python.find():\n",
    "  print(i)"
   ]
  },
  {
   "cell_type": "code",
   "execution_count": 36,
   "id": "c9473350",
   "metadata": {
    "scrolled": true
   },
   "outputs": [
    {
     "name": "stdout",
     "output_type": "stream",
     "text": [
      "{'_id': ObjectId('62d50c599c32be385649b967'), 'name': '전현무', 'age': 43, 'dept': '아티스트팀'}\n",
      "{'_id': ObjectId('62d50c599c32be385649b969'), 'name': '윤여정', 'age': 71, 'dept': '가수팀'}\n"
     ]
    }
   ],
   "source": [
    "for i in emp_python.find( {\"age\" : {'$gt' : 40}}): # $gt : 지정된 값보다 큰 값과 일치\n",
    "    print(i)"
   ]
  },
  {
   "cell_type": "markdown",
   "id": "d8561d53",
   "metadata": {},
   "source": [
    "### 나이 +3"
   ]
  },
  {
   "cell_type": "code",
   "execution_count": 40,
   "id": "79ef2787",
   "metadata": {},
   "outputs": [
    {
     "data": {
      "text/plain": [
       "<pymongo.results.UpdateResult at 0x236a9c50940>"
      ]
     },
     "execution_count": 40,
     "metadata": {},
     "output_type": "execute_result"
    }
   ],
   "source": [
    "emp_python.update_many({'age' : {'$gt' : 40}}, {'$inc': {'age': 3}})"
   ]
  },
  {
   "cell_type": "code",
   "execution_count": 41,
   "id": "5b8977a8",
   "metadata": {},
   "outputs": [
    {
     "name": "stdout",
     "output_type": "stream",
     "text": [
      "{'_id': ObjectId('62d50c599c32be385649b967'), 'name': '전현무', 'age': 46, 'dept': '아티스트팀'}\n",
      "{'_id': ObjectId('62d50c599c32be385649b969'), 'name': '윤여정', 'age': 74, 'dept': '가수팀'}\n"
     ]
    }
   ],
   "source": [
    "for i in emp_python.find( {\"age\" : {'$gt' : 40}}): # $gt : 지정된 값보다 큰 값과 일치\n",
    "    print(i)"
   ]
  },
  {
   "cell_type": "code",
   "execution_count": 42,
   "id": "04057063",
   "metadata": {},
   "outputs": [
    {
     "data": {
      "text/plain": [
       "<pymongo.results.DeleteResult at 0x236ab2e1f40>"
      ]
     },
     "execution_count": 42,
     "metadata": {},
     "output_type": "execute_result"
    }
   ],
   "source": [
    "emp_python.delete_many({'name':'전현무'})"
   ]
  },
  {
   "cell_type": "code",
   "execution_count": 43,
   "id": "9bb0c99f",
   "metadata": {
    "scrolled": true
   },
   "outputs": [
    {
     "name": "stdout",
     "output_type": "stream",
     "text": [
      "{'_id': ObjectId('62d507617dc333f8785807e0'), 'name': 'MARTIN', 'hp': '010-4312-7856', 'status': '임시직', 'retire_yn': 'N'}\n",
      "{'_id': ObjectId('62d507617dc333f8785807e1'), 'name': 'ALLEN', 'hp': '010-5678-1234', 'status': '정규직', 'retire_yn': 'N'}\n",
      "{'_id': ObjectId('62d507667dc333f8785807e2'), 'name': 'SCOTT', 'hp': '010-1212-3434', 'dept': '개발팀', 'status': '정규직', 'retire_yn': 'N'}\n",
      "{'_id': ObjectId('62d507cf7dc333f8785807e3'), 'name': 'PYTHON', 'hp': '010-1111-2222', 'status': '임시직', 'retire_yn': 'Y'}\n",
      "{'_id': ObjectId('62d50c599c32be385649b966'), 'name': '박나래', 'age': 34, 'dept': '아티스트팀'}\n",
      "{'_id': ObjectId('62d50c599c32be385649b968'), 'name': '화사', 'age': 29, 'dept': '아티스트팀'}\n",
      "{'_id': ObjectId('62d50c599c32be385649b969'), 'name': '윤여정', 'age': 74, 'dept': '가수팀'}\n"
     ]
    }
   ],
   "source": [
    "result = emp_python.find()\n",
    "\n",
    "for r in result:\n",
    "    print(r)"
   ]
  },
  {
   "cell_type": "code",
   "execution_count": 55,
   "id": "0d39cf21",
   "metadata": {
    "scrolled": true
   },
   "outputs": [
    {
     "name": "stdout",
     "output_type": "stream",
     "text": [
      "{'name': 'MARTIN', 'hp': '010-4312-7856', 'status': '임시직', 'retire_yn': 'N'}\n",
      "{'name': 'ALLEN', 'hp': '010-5678-1234', 'status': '정규직', 'retire_yn': 'N'}\n",
      "{'name': 'SCOTT', 'hp': '010-1212-3434', 'status': '정규직', 'retire_yn': 'N', 'unit': '개발팀'}\n",
      "{'name': 'PYTHON', 'hp': '010-1111-2222', 'status': '임시직', 'retire_yn': 'Y'}\n"
     ]
    }
   ],
   "source": [
    "result = emp_python.find({}, {'_id':0}).limit(4)\n",
    "\n",
    "for r in result:\n",
    "    print(r)"
   ]
  },
  {
   "cell_type": "code",
   "execution_count": 48,
   "id": "14c5945b",
   "metadata": {},
   "outputs": [
    {
     "data": {
      "text/plain": [
       "<pymongo.results.UpdateResult at 0x236a9bf1af0>"
      ]
     },
     "execution_count": 48,
     "metadata": {},
     "output_type": "execute_result"
    }
   ],
   "source": [
    "emp_python.update_many( {}, {'$rename' : {'dept' : 'unit' }})"
   ]
  },
  {
   "cell_type": "code",
   "execution_count": 49,
   "id": "f868f8c8",
   "metadata": {},
   "outputs": [
    {
     "name": "stdout",
     "output_type": "stream",
     "text": [
      "{'_id': ObjectId('62d507617dc333f8785807e0')}\n",
      "{'_id': ObjectId('62d507617dc333f8785807e1')}\n",
      "{'_id': ObjectId('62d507667dc333f8785807e2'), 'unit': '개발팀'}\n",
      "{'_id': ObjectId('62d507cf7dc333f8785807e3')}\n",
      "{'_id': ObjectId('62d50c599c32be385649b966'), 'unit': '아티스트팀'}\n",
      "{'_id': ObjectId('62d50c599c32be385649b968'), 'unit': '아티스트팀'}\n",
      "{'_id': ObjectId('62d50c599c32be385649b969'), 'unit': '가수팀'}\n"
     ]
    }
   ],
   "source": [
    "result = emp_python.find({}, {'unit' : 1})\n",
    "\n",
    "for r in result:\n",
    "    print(r)"
   ]
  },
  {
   "cell_type": "code",
   "execution_count": 56,
   "id": "c6d12e88",
   "metadata": {},
   "outputs": [
    {
     "data": {
      "text/plain": [
       "'name_text_hp_1'"
      ]
     },
     "execution_count": 56,
     "metadata": {},
     "output_type": "execute_result"
    }
   ],
   "source": [
    "emp_python.create_index([('name', pymongo.TEXT), ('hp', pymongo.ASCENDING)])"
   ]
  },
  {
   "cell_type": "code",
   "execution_count": 59,
   "id": "7486f3ad",
   "metadata": {
    "scrolled": true
   },
   "outputs": [
    {
     "data": {
      "text/plain": [
       "{'_id_': {'v': 2, 'key': [('_id', 1)]},\n",
       " 'name_text_hp_1': {'v': 2,\n",
       "  'key': [('_fts', 'text'), ('_ftsx', 1), ('hp', 1)],\n",
       "  'weights': SON([('name', 1)]),\n",
       "  'default_language': 'english',\n",
       "  'language_override': 'language',\n",
       "  'textIndexVersion': 3}}"
      ]
     },
     "execution_count": 59,
     "metadata": {},
     "output_type": "execute_result"
    }
   ],
   "source": [
    "emp_python.index_information()\n",
    "\n",
    "\n",
    "# ASCENDING : 1 , DESCENDING : -1\n",
    "\n",
    "# 'key': [('_fts', 'text'), ('_ftsx', 1), ('hp', 1)], \n",
    "\n",
    "# age는 지정해주지 않아서 '_ftsx', 1 되어 있음."
   ]
  },
  {
   "cell_type": "code",
   "execution_count": 58,
   "id": "762d84d1",
   "metadata": {},
   "outputs": [
    {
     "name": "stdout",
     "output_type": "stream",
     "text": [
      "{'_id': ObjectId('62d507617dc333f8785807e1'), 'name': 'ALLEN', 'hp': '010-5678-1234', 'status': '정규직', 'retire_yn': 'N'}\n",
      "{'_id': ObjectId('62d50c599c32be385649b966'), 'name': '박나래', 'age': 34, 'unit': '아티스트팀'}\n"
     ]
    }
   ],
   "source": [
    "result = emp_python.find({'$text' : {'$search' : '박나래 ALLEN'}} )\n",
    "for record in result:\n",
    "    print(record)"
   ]
  }
 ],
 "metadata": {
  "kernelspec": {
   "display_name": "Python 3 (ipykernel)",
   "language": "python",
   "name": "python3"
  },
  "language_info": {
   "codemirror_mode": {
    "name": "ipython",
    "version": 3
   },
   "file_extension": ".py",
   "mimetype": "text/x-python",
   "name": "python",
   "nbconvert_exporter": "python",
   "pygments_lexer": "ipython3",
   "version": "3.9.7"
  }
 },
 "nbformat": 4,
 "nbformat_minor": 5
}
